{
 "cells": [
  {
   "cell_type": "code",
   "execution_count": 1,
   "id": "6dffd823-d4cd-4341-b9b5-99ce5281df2d",
   "metadata": {},
   "outputs": [],
   "source": [
    "import nltk\n",
    "from nltk.stem.porter import *\n",
    "from torch.nn import *\n",
    "from torch.optim import *\n",
    "import numpy as np\n",
    "import pandas as pd\n",
    "import torch,torchvision\n",
    "import random\n",
    "from tqdm import *\n",
    "from torch.utils.data import Dataset,DataLoader\n",
    "stemmer = PorterStemmer()"
   ]
  },
  {
   "cell_type": "code",
   "execution_count": 2,
   "id": "080f94de-5376-419a-8c11-6a7d10014f02",
   "metadata": {},
   "outputs": [],
   "source": [
    "def tokenize(word):\n",
    "    return nltk.word_tokenize(word)"
   ]
  },
  {
   "cell_type": "code",
   "execution_count": 7,
   "id": "b548c110-7d23-48a7-ab25-160b63f5c6c7",
   "metadata": {},
   "outputs": [],
   "source": [
    "def stem(word):\n",
    "    return stemmer.stem(word.lower())"
   ]
  },
  {
   "cell_type": "code",
   "execution_count": 13,
   "id": "20c50e37-4d3e-460a-9e68-43579b5145df",
   "metadata": {},
   "outputs": [],
   "source": [
    "def bag_of_words(tokenized_words,all_words):\n",
    "    tokenized_words = [stem(w) for w in tokenized_words]\n",
    "    bag = np.zeros(len(all_words),dtype=np.float32)\n",
    "    for idx,tokenized_word in enumerate(all_words):\n",
    "        if tokenized_word in tokenized_words:\n",
    "             bag[idx] = 1.0\n",
    "    return bag"
   ]
  },
  {
   "cell_type": "code",
   "execution_count": 14,
   "id": "43e60049-d7dc-4fa0-a083-20043a85cbd2",
   "metadata": {},
   "outputs": [
    {
     "data": {
      "text/plain": [
       "['how', 'are', 'you', '?']"
      ]
     },
     "execution_count": 14,
     "metadata": {},
     "output_type": "execute_result"
    }
   ],
   "source": [
    "tokenize('how are you ? ')"
   ]
  },
  {
   "cell_type": "code",
   "execution_count": 15,
   "id": "cadfb2c2-5bdd-4315-8645-91e1c99ba1a2",
   "metadata": {},
   "outputs": [
    {
     "data": {
      "text/plain": [
       "('how', 'are', 'you', '?')"
      ]
     },
     "execution_count": 15,
     "metadata": {},
     "output_type": "execute_result"
    }
   ],
   "source": [
    "stem('how'),stem('are'),stem('you'),stem('?')"
   ]
  },
  {
   "cell_type": "code",
   "execution_count": 16,
   "id": "6ab19ed2-ce73-4558-bcbd-f47942096dfb",
   "metadata": {},
   "outputs": [
    {
     "data": {
      "text/plain": [
       "array([0., 1., 1., 1.], dtype=float32)"
      ]
     },
     "execution_count": 16,
     "metadata": {},
     "output_type": "execute_result"
    }
   ],
   "source": [
    "bag_of_words(tokenize('how are you ? '),['what','are','you','?'])"
   ]
  },
  {
   "cell_type": "code",
   "execution_count": null,
   "id": "ae57d539-5199-43af-9160-0d0b5a8d0826",
   "metadata": {},
   "outputs": [],
   "source": []
  },
  {
   "cell_type": "code",
   "execution_count": null,
   "id": "83624d73-7c2b-4a55-b1a8-438b6c492369",
   "metadata": {},
   "outputs": [],
   "source": []
  }
 ],
 "metadata": {
  "kernelspec": {
   "display_name": "Python 3.7.3 64-bit ('base': conda)",
   "language": "python",
   "name": "python373jvsc74a57bd0210f9608a45c0278a93c9e0b10db32a427986ab48cfc0d20c139811eb78c4bbc"
  },
  "language_info": {
   "codemirror_mode": {
    "name": "ipython",
    "version": 3
   },
   "file_extension": ".py",
   "mimetype": "text/x-python",
   "name": "python",
   "nbconvert_exporter": "python",
   "pygments_lexer": "ipython3",
   "version": "3.7.7"
  }
 },
 "nbformat": 4,
 "nbformat_minor": 5
}
